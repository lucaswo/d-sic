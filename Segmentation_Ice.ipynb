{
 "cells": [
  {
   "cell_type": "code",
   "execution_count": null,
   "metadata": {
    "collapsed": false
   },
   "outputs": [],
   "source": [
    "import pandas as pd\n",
    "import numpy as np\n",
    "\n",
    "from PIL import Image\n",
    "\n",
    "import matplotlib.pyplot as plt\n",
    "%matplotlib inline"
   ]
  },
  {
   "cell_type": "code",
   "execution_count": null,
   "metadata": {
    "collapsed": false
   },
   "outputs": [],
   "source": [
    "from skimage.filter import sobel\n",
    "from skimage.io import imread\n",
    "from skimage import morphology"
   ]
  },
  {
   "cell_type": "code",
   "execution_count": null,
   "metadata": {
    "collapsed": false
   },
   "outputs": [],
   "source": [
    "locations = pd.read_hdf(\"data/backup/complete_paths.h5\", \"data\")"
   ]
  },
  {
   "cell_type": "code",
   "execution_count": null,
   "metadata": {
    "collapsed": true
   },
   "outputs": [],
   "source": [
    "locations = locations[((locations['ice'] > 0) & (locations['ice'] <= 100)) | (locations[\"ice\"] == 255)]"
   ]
  },
  {
   "cell_type": "code",
   "execution_count": null,
   "metadata": {
    "collapsed": true
   },
   "outputs": [],
   "source": [
    "test_image = \"data/images/remote/20111120-2101.jpeg\"\n",
    "#test_image = \"data/images/remote/20150908-2001.jpeg\""
   ]
  },
  {
   "cell_type": "code",
   "execution_count": null,
   "metadata": {
    "collapsed": false
   },
   "outputs": [],
   "source": [
    "Image.open(test_image).convert(\"L\")"
   ]
  },
  {
   "cell_type": "code",
   "execution_count": null,
   "metadata": {
    "collapsed": false
   },
   "outputs": [],
   "source": [
    "im = imread(test_image, as_grey=True, plugin=\"pil\")[400:800, :]*255\n",
    "elevation_map = sobel(im)\n",
    "\n",
    "markers = np.zeros_like(im)\n",
    "#markers[(im < 130) | (im > 190)] = 1 # ship, water, 86\n",
    "#markers[(im > 130) & (im < 190)] = 3\n",
    "markers[(im < 90) | (im > 130)] = 1 # ship, water, 98\n",
    "markers[(im > 90) & (im < 130)] = 3\n",
    "\n",
    "segmentation = morphology.watershed(elevation_map, markers)\n",
    "(segmentation == 3).sum()/(im.shape[0]*im.shape[1])"
   ]
  },
  {
   "cell_type": "code",
   "execution_count": null,
   "metadata": {
    "collapsed": false,
    "scrolled": false
   },
   "outputs": [],
   "source": [
    "im2 = Image.fromarray(segmentation*50).convert(\"L\")\n",
    "im2"
   ]
  },
  {
   "cell_type": "code",
   "execution_count": null,
   "metadata": {
    "collapsed": false,
    "scrolled": true
   },
   "outputs": [],
   "source": [
    "hist = np.histogram(im, bins=np.arange(0, 256))\n",
    "plt.plot(hist[1][:-1], hist[0], lw=2)"
   ]
  },
  {
   "cell_type": "code",
   "execution_count": null,
   "metadata": {
    "collapsed": false
   },
   "outputs": [],
   "source": [
    "locations[locations.index.strftime(\"%Y%m%d\") == \"20111120\"]"
   ]
  },
  {
   "cell_type": "code",
   "execution_count": null,
   "metadata": {
    "collapsed": true
   },
   "outputs": [],
   "source": []
  }
 ],
 "metadata": {
  "kernelspec": {
   "display_name": "Python 3",
   "language": "python",
   "name": "python3"
  },
  "language_info": {
   "codemirror_mode": {
    "name": "ipython",
    "version": 3
   },
   "file_extension": ".py",
   "mimetype": "text/x-python",
   "name": "python",
   "nbconvert_exporter": "python",
   "pygments_lexer": "ipython3",
   "version": "3.5.2"
  }
 },
 "nbformat": 4,
 "nbformat_minor": 1
}
