{
 "cells": [
  {
   "cell_type": "code",
   "execution_count": null,
   "metadata": {
    "collapsed": false
   },
   "outputs": [],
   "source": [
    "import pandas as pd\n",
    "import numpy as np\n",
    "\n",
    "from PIL import Image, ImageOps\n",
    "\n",
    "import matplotlib.pyplot as plt\n",
    "%matplotlib inline"
   ]
  },
  {
   "cell_type": "code",
   "execution_count": null,
   "metadata": {
    "collapsed": false
   },
   "outputs": [],
   "source": [
    "from skimage.filters import sobel\n",
    "from skimage.io import imread\n",
    "from skimage import morphology\n",
    "from skimage.feature import canny\n",
    "from scipy import ndimage as ndi\n",
    "from skimage.segmentation import find_boundaries, mark_boundaries, slic"
   ]
  },
  {
   "cell_type": "code",
   "execution_count": null,
   "metadata": {
    "collapsed": false
   },
   "outputs": [],
   "source": [
    "locations = pd.read_hdf(\"data/backup/complete_paths.h5\", \"data\")"
   ]
  },
  {
   "cell_type": "code",
   "execution_count": null,
   "metadata": {
    "collapsed": true
   },
   "outputs": [],
   "source": [
    "locations = locations[((locations['ice'] > 60) & (locations['ice'] <= 100))]# | (locations[\"ice\"] == 255)]"
   ]
  },
  {
   "cell_type": "code",
   "execution_count": null,
   "metadata": {
    "collapsed": false
   },
   "outputs": [],
   "source": [
    "def get_conc(image):\n",
    "    try:\n",
    "        im = np.array(equalize(Image.open(image).convert(\"L\")))[375:800, :]\n",
    "        #print(np.mean(im))\n",
    "\n",
    "        # bright enough?\n",
    "        if np.mean(im) > 70:\n",
    "            elevation_map = sobel(im)\n",
    "\n",
    "            hist = np.histogram(im, bins=np.arange(0, 256), normed=True)\n",
    "            filtered_hist = hist[1][61:][(hist[0][60:] > 0.005)]\n",
    "\n",
    "            # find filtering borders in the brightness\n",
    "            low_ice = np.min(filtered_hist)\n",
    "            high_ice = np.max(filtered_hist)\n",
    "            low_water = np.floor(low_ice/10)*10\n",
    "            high_water = np.ceil(high_ice/10)*10\n",
    "\n",
    "            #print(low_ice, high_ice, low_water, high_water)\n",
    "\n",
    "            markers = np.zeros_like(im)\n",
    "            markers[(im < low_water) | (im > high_water)] = 1 # ship, water\n",
    "            markers[(im > low_ice) & (im < high_ice)] = 3\n",
    "\n",
    "            segmentation = morphology.watershed(elevation_map, markers)\n",
    "            return (segmentation == 3).sum()/(im.shape[0]*im.shape[1])\n",
    "        else:\n",
    "            return 0.0\n",
    "    except:\n",
    "        return np.nan"
   ]
  },
  {
   "cell_type": "code",
   "execution_count": null,
   "metadata": {
    "collapsed": false,
    "scrolled": true
   },
   "outputs": [],
   "source": [
    "test_set = locations[:3000]\n",
    "test_set[\"predicted\"] = test_set[\"image\"].apply(get_conc)\n",
    "#test_set"
   ]
  },
  {
   "cell_type": "code",
   "execution_count": null,
   "metadata": {
    "collapsed": false
   },
   "outputs": [],
   "source": [
    "((test_set[\"ice\"]/100 - test_set[\"predicted\"]) ** 2).mean()"
   ]
  },
  {
   "cell_type": "code",
   "execution_count": null,
   "metadata": {
    "collapsed": true
   },
   "outputs": [],
   "source": [
    "def equalize(im):\n",
    "    h = im.convert(\"L\").histogram()\n",
    "    lut = []\n",
    "    for b in range(0, len(h), 256):\n",
    "        # step size\n",
    "        step = np.sum(h[b:b+256]) / 255\n",
    "        # create equalization lookup table\n",
    "        n = 0\n",
    "        for i in range(256):\n",
    "            lut.append(n / step)\n",
    "            n = n + h[i+b]\n",
    "    # map image through lookup table\n",
    "    return im.point(lut)"
   ]
  },
  {
   "cell_type": "code",
   "execution_count": null,
   "metadata": {
    "collapsed": true
   },
   "outputs": [],
   "source": [
    "#test_image = \"data/images/remote/20111120-2101.jpeg\"\n",
    "#test_image = \"data/images/remote/20150908-2001.jpeg\"\n",
    "test_image = \"data/images/remote/20150823-1101.jpeg\""
   ]
  },
  {
   "cell_type": "code",
   "execution_count": null,
   "metadata": {
    "collapsed": false
   },
   "outputs": [],
   "source": [
    "Image.open(test_image).convert(\"L\")"
   ]
  },
  {
   "cell_type": "code",
   "execution_count": null,
   "metadata": {
    "collapsed": false
   },
   "outputs": [],
   "source": [
    "im = np.array(equalize(Image.open(test_image).convert(\"L\")))[375:800, :]\n",
    "elevation_map = sobel(im)\n",
    "#elevation_map[elevation_map < 10] = 0\n",
    "\n",
    "markers = np.zeros_like(im)\n",
    "markers[(im < 60) | (im > 230)] = 1 # ship, water, 86\n",
    "markers[(im > 61) & (im < 230)] = 3\n",
    "#markers[(im < 100)] = 1 # ship, water, 98\n",
    "#markers[(im > 100)] = 3\n",
    "\n",
    "segmentation = morphology.watershed(elevation_map, markers)\n",
    "#segmentation = slic(elevation_map, enforce_connectivity=False, sigma=5, n_segments=10)\n",
    "(segmentation == 3).sum()/(im.shape[0]*im.shape[1])"
   ]
  },
  {
   "cell_type": "code",
   "execution_count": null,
   "metadata": {
    "collapsed": false,
    "scrolled": false
   },
   "outputs": [],
   "source": [
    "background = Image.open(test_image).crop((0,375,1280,800)).convert(\"RGBA\")\n",
    "im2 = Image.fromarray(elevation_map/np.max(elevation_map)*255).convert(\"L\")\n",
    "\n",
    "layer = Image.new('RGBA', background.size, color=(120,255,0,255))\n",
    "\n",
    "Image.composite(background, layer, ImageOps.invert(im2))"
   ]
  },
  {
   "cell_type": "code",
   "execution_count": null,
   "metadata": {
    "collapsed": false
   },
   "outputs": [],
   "source": [
    "Image.fromarray(segmentation.astype(np.uint8)*40).convert(\"L\")"
   ]
  },
  {
   "cell_type": "code",
   "execution_count": null,
   "metadata": {
    "collapsed": false,
    "scrolled": false
   },
   "outputs": [],
   "source": [
    "hist = np.histogram(im, bins=np.arange(0, 256), normed=True)\n",
    "plt.plot(hist[1][:-1], hist[0], lw=2) "
   ]
  },
  {
   "cell_type": "code",
   "execution_count": null,
   "metadata": {
    "collapsed": false
   },
   "outputs": [],
   "source": [
    "vec = np.convolve(hist[0], np.ones((20,))/20, mode='valid')\n",
    "plt.plot(vec, lw=2)"
   ]
  },
  {
   "cell_type": "code",
   "execution_count": null,
   "metadata": {
    "collapsed": false
   },
   "outputs": [],
   "source": [
    "fill_ice = ndi.binary_fill_holes(segmentation-1)\n",
    "#bounds = find_boundaries(fill_ice)\n",
    "bounds = mark_boundaries(im, fill_ice)\n",
    "Image.fromarray(fill_ice.astype(np.uint8)*255)"
   ]
  },
  {
   "cell_type": "code",
   "execution_count": null,
   "metadata": {
    "collapsed": false,
    "scrolled": true
   },
   "outputs": [],
   "source": [
    "filtered_hist = hist[1][61:][(hist[0][60:] > 0.005)]\n",
    "low_ice = np.min(filtered_hist)\n",
    "high_ice = np.max(filtered_hist)\n",
    "low_water = np.floor(low_ice/10)*10\n",
    "high_water = np.ceil(high_ice/10)*10\n",
    "print(low_ice, high_ice, low_water, high_water)"
   ]
  },
  {
   "cell_type": "code",
   "execution_count": null,
   "metadata": {
    "collapsed": true
   },
   "outputs": [],
   "source": [
    "hist[1][(hist[0] < 0.1*np.mean(hist[0])) & (hist[1][1:] > 150)][0]"
   ]
  },
  {
   "cell_type": "code",
   "execution_count": null,
   "metadata": {
    "collapsed": false
   },
   "outputs": [],
   "source": [
    "(hist[0] > (0.1*np.amax(hist[0]))).sum()"
   ]
  },
  {
   "cell_type": "code",
   "execution_count": null,
   "metadata": {
    "collapsed": false
   },
   "outputs": [],
   "source": [
    " np.mean(hist[0])"
   ]
  },
  {
   "cell_type": "code",
   "execution_count": null,
   "metadata": {
    "collapsed": false
   },
   "outputs": [],
   "source": [
    "locations[locations.index.strftime(\"%Y%m%d\") == \"20111120\"]"
   ]
  }
 ],
 "metadata": {
  "kernelspec": {
   "display_name": "Python 3",
   "language": "python",
   "name": "python3"
  },
  "language_info": {
   "codemirror_mode": {
    "name": "ipython",
    "version": 3
   },
   "file_extension": ".py",
   "mimetype": "text/x-python",
   "name": "python",
   "nbconvert_exporter": "python",
   "pygments_lexer": "ipython3",
   "version": "3.5.2"
  }
 },
 "nbformat": 4,
 "nbformat_minor": 1
}
