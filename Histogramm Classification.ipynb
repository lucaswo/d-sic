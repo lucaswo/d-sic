{
 "cells": [
  {
   "cell_type": "code",
   "execution_count": null,
   "metadata": {
    "collapsed": false
   },
   "outputs": [],
   "source": [
    "import pandas as pd\n",
    "import numpy as np\n",
    "\n",
    "from scipy.signal import argrelextrema\n",
    "\n",
    "from scipy.misc import imread\n",
    "from PIL import Image\n",
    "from PIL import ImageFile\n",
    "ImageFile.LOAD_TRUNCATED_IMAGES = True\n",
    "\n",
    "from sklearn.cluster import DBSCAN, KMeans\n",
    "from sklearn.decomposition import PCA\n",
    "\n",
    "import matplotlib.pyplot as plt\n",
    "%matplotlib notebook"
   ]
  },
  {
   "cell_type": "code",
   "execution_count": null,
   "metadata": {
    "collapsed": true
   },
   "outputs": [],
   "source": [
    "locations = pd.read_hdf(\"data/backup/complete_paths.h5\", \"data\")\n",
    "locations = locations[((locations['ice'] > 0) & (locations['ice'] <= 100)) | (locations[\"ice\"] == 255)]\n",
    "\n",
    "vectorspace = np.fromfile(\"data/backup/complete_vector.pyarray\").reshape((12454,255))\n",
    "locations = locations[np.all(vectorspace > 0, axis=1)]\n",
    "vectorspace = vectorspace[np.all(vectorspace > 0, axis=1)]"
   ]
  },
  {
   "cell_type": "code",
   "execution_count": null,
   "metadata": {
    "collapsed": true
   },
   "outputs": [],
   "source": [
    "locations = pd.read_hdf(\"data/backup/cleaned_cluster.h5\", \"data\")"
   ]
  },
  {
   "cell_type": "code",
   "execution_count": null,
   "metadata": {
    "collapsed": false
   },
   "outputs": [],
   "source": [
    "def build_vs(path):\n",
    "    path = \"/media/lucas/data/images/\" + path.split(\"/\")[-1]\n",
    "    \n",
    "    try:\n",
    "        im = imread(path, mode=\"L\")\n",
    "    except FileNotFoundError:\n",
    "        return np.zeros(255)\n",
    "    \n",
    "    if np.mean(im) < 50:\n",
    "        return np.zeros(255)\n",
    "\n",
    "    hist = np.histogram(im, bins=np.arange(0, 256), normed=True)[0]\n",
    "    \n",
    "    return hist"
   ]
  },
  {
   "cell_type": "code",
   "execution_count": null,
   "metadata": {
    "collapsed": false
   },
   "outputs": [],
   "source": [
    "vectorspace = locations[\"image\"].apply(build_vs)\n",
    "\n",
    "a = vectorspace.values.copy()\n",
    "vectorspace = np.ndarray((12454,255))\n",
    "\n",
    "i = 0\n",
    "for val in a:\n",
    "    vectorspace[i] = a[i]\n",
    "    \n",
    "    i += 1\n",
    "\n",
    "vectorspace.tofile(\"data/backup/complete_vector.pyarray\")"
   ]
  },
  {
   "cell_type": "code",
   "execution_count": null,
   "metadata": {
    "collapsed": false
   },
   "outputs": [],
   "source": [
    "vec = np.array(list(map(lambda x: np.convolve(x, np.ones((50,))/50, mode='valid'), vectorspace)))"
   ]
  },
  {
   "cell_type": "code",
   "execution_count": null,
   "metadata": {
    "collapsed": false
   },
   "outputs": [],
   "source": [
    "#km = DBSCAN(eps=0.05, min_samples=100)\n",
    "km = KMeans(n_clusters=16)\n",
    "clusters = km.fit_predict(vec)"
   ]
  },
  {
   "cell_type": "code",
   "execution_count": null,
   "metadata": {
    "collapsed": false
   },
   "outputs": [],
   "source": [
    "pca = PCA(n_components=2, svd_solver=\"randomized\")\n",
    "redux = pca.fit_transform(vec)"
   ]
  },
  {
   "cell_type": "code",
   "execution_count": null,
   "metadata": {
    "collapsed": false,
    "scrolled": true
   },
   "outputs": [],
   "source": [
    "cm = plt.cm.get_cmap('RdYlBu')\n",
    "plt.scatter(redux[:, 0], redux[:, 1], c=clusters, cmap=cm)\n",
    "plt.colorbar()"
   ]
  },
  {
   "cell_type": "code",
   "execution_count": null,
   "metadata": {
    "collapsed": false
   },
   "outputs": [],
   "source": [
    "locations[\"cluster\"] = clusters\n",
    "locations.to_hdf(\"data/backup/cleaned_cluster.h5\", \"data\")"
   ]
  },
  {
   "cell_type": "code",
   "execution_count": null,
   "metadata": {
    "collapsed": false
   },
   "outputs": [],
   "source": [
    "im = imread(\"/media/lucas/data/images/20150718-1001.jpeg\", mode=\"L\")[375:800, :]"
   ]
  },
  {
   "cell_type": "code",
   "execution_count": null,
   "metadata": {
    "collapsed": false
   },
   "outputs": [],
   "source": [
    "hist = np.histogram(im, bins=np.arange(0, 256), normed=True)"
   ]
  },
  {
   "cell_type": "code",
   "execution_count": null,
   "metadata": {
    "collapsed": false
   },
   "outputs": [],
   "source": [
    "a = np.convolve(hist[0], np.ones((20,))/20, mode='valid')\n",
    "argrelextrema(a, np.greater)[0]"
   ]
  },
  {
   "cell_type": "code",
   "execution_count": null,
   "metadata": {
    "collapsed": false
   },
   "outputs": [],
   "source": [
    "plt.plot(hist[1][:-1], hist[0], lw=2) "
   ]
  },
  {
   "cell_type": "code",
   "execution_count": null,
   "metadata": {
    "collapsed": false
   },
   "outputs": [],
   "source": [
    "locations[locations.index.strftime(\"%Y%m%d\") == \"20150719\"]"
   ]
  },
  {
   "cell_type": "code",
   "execution_count": null,
   "metadata": {
    "collapsed": true
   },
   "outputs": [],
   "source": []
  }
 ],
 "metadata": {
  "kernelspec": {
   "display_name": "Python 3",
   "language": "python",
   "name": "python3"
  },
  "language_info": {
   "codemirror_mode": {
    "name": "ipython",
    "version": 3
   },
   "file_extension": ".py",
   "mimetype": "text/x-python",
   "name": "python",
   "nbconvert_exporter": "python",
   "pygments_lexer": "ipython3",
   "version": "3.5.2"
  }
 },
 "nbformat": 4,
 "nbformat_minor": 1
}
